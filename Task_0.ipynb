{
 "cells": [
  {
   "cell_type": "code",
   "execution_count": 1,
   "id": "0cd1d838",
   "metadata": {},
   "outputs": [],
   "source": [
    "#importing necessary packages\n",
    "import numpy as np\n",
    "import pandas as pd\n",
    "import matplotlib.pyplot as plt"
   ]
  },
  {
   "cell_type": "code",
   "execution_count": 2,
   "id": "1d477b6f",
   "metadata": {},
   "outputs": [],
   "source": [
    "#read the file\n",
    "df = pd.read_csv('dilans_data.csv', sep=';')\n",
    "df.columns = [\"date\", \"event_type1\", \"event_type2\", \"event_type3\", \"event_type4\", \"continent\"]"
   ]
  },
  {
   "cell_type": "code",
   "execution_count": 3,
   "id": "bcd783f2",
   "metadata": {},
   "outputs": [
    {
     "name": "stdout",
     "output_type": "stream",
     "text": [
      "<class 'pandas.core.frame.DataFrame'>\n",
      "RangeIndex: 597901 entries, 0 to 597900\n",
      "Data columns (total 6 columns):\n",
      "date           597901 non-null object\n",
      "event_type1    597901 non-null object\n",
      "event_type2    597901 non-null object\n",
      "event_type3    590283 non-null float64\n",
      "event_type4    581876 non-null object\n",
      "continent      210022 non-null object\n",
      "dtypes: float64(1), object(5)\n",
      "memory usage: 27.4+ MB\n"
     ]
    }
   ],
   "source": [
    "df.info()"
   ]
  },
  {
   "cell_type": "markdown",
   "id": "821192c1",
   "metadata": {},
   "source": [
    "# __subscriber_df__"
   ]
  },
  {
   "cell_type": "code",
   "execution_count": 4,
   "id": "e08ac93c",
   "metadata": {},
   "outputs": [],
   "source": [
    "#subscriber dataframe\n",
    "df_subscriber = df.loc[df['event_type1'].isin(['subscribe'])]"
   ]
  },
  {
   "cell_type": "code",
   "execution_count": 5,
   "id": "5fabbe7e",
   "metadata": {},
   "outputs": [
    {
     "data": {
      "text/plain": [
       "(7618, 6)"
      ]
     },
     "execution_count": 5,
     "metadata": {},
     "output_type": "execute_result"
    }
   ],
   "source": [
    "df_subscriber.shape"
   ]
  },
  {
   "cell_type": "code",
   "execution_count": 6,
   "id": "37bbdefe",
   "metadata": {},
   "outputs": [
    {
     "name": "stdout",
     "output_type": "stream",
     "text": [
      "<class 'pandas.core.frame.DataFrame'>\n",
      "Int64Index: 7618 entries, 9 to 597716\n",
      "Data columns (total 6 columns):\n",
      "date           7618 non-null object\n",
      "event_type1    7618 non-null object\n",
      "event_type2    7618 non-null object\n",
      "event_type3    0 non-null float64\n",
      "event_type4    0 non-null object\n",
      "continent      0 non-null object\n",
      "dtypes: float64(1), object(5)\n",
      "memory usage: 416.6+ KB\n"
     ]
    }
   ],
   "source": [
    "df_subscriber.info()"
   ]
  },
  {
   "cell_type": "code",
   "execution_count": 7,
   "id": "894e3293",
   "metadata": {},
   "outputs": [],
   "source": [
    "df_subscriber = df_subscriber.drop('event_type3', 1)"
   ]
  },
  {
   "cell_type": "code",
   "execution_count": 8,
   "id": "4f17ee16",
   "metadata": {},
   "outputs": [],
   "source": [
    "df_subscriber = df_subscriber.drop('event_type4', 1)"
   ]
  },
  {
   "cell_type": "code",
   "execution_count": 9,
   "id": "4368cfad",
   "metadata": {},
   "outputs": [],
   "source": [
    "df_subscriber = df_subscriber.drop('continent', 1)"
   ]
  },
  {
   "cell_type": "code",
   "execution_count": 11,
   "id": "a4a89391",
   "metadata": {},
   "outputs": [],
   "source": [
    "df_subscriber = df_subscriber.astype({\"event_type1\":'category', \"event_type2\":'int'})"
   ]
  },
  {
   "cell_type": "code",
   "execution_count": 12,
   "id": "a4bfd81d",
   "metadata": {},
   "outputs": [
    {
     "name": "stdout",
     "output_type": "stream",
     "text": [
      "<class 'pandas.core.frame.DataFrame'>\n",
      "Int64Index: 7618 entries, 9 to 597716\n",
      "Data columns (total 3 columns):\n",
      "date           7618 non-null object\n",
      "event_type1    7618 non-null category\n",
      "event_type2    7618 non-null int64\n",
      "dtypes: category(1), int64(1), object(1)\n",
      "memory usage: 186.1+ KB\n"
     ]
    }
   ],
   "source": [
    "df_subscriber.info()"
   ]
  },
  {
   "cell_type": "code",
   "execution_count": 13,
   "id": "f99b0a0a",
   "metadata": {},
   "outputs": [],
   "source": [
    "df_subscriber.columns = [\"my_date\", \"event_type1\", \"user_id\"]"
   ]
  },
  {
   "cell_type": "code",
   "execution_count": 14,
   "id": "130c66d3",
   "metadata": {},
   "outputs": [],
   "source": [
    "df_subscriber.to_csv(\"df_subscriber.csv\", index=False)"
   ]
  },
  {
   "cell_type": "markdown",
   "id": "c4ec3f6d",
   "metadata": {},
   "source": [
    "# Paying_User df"
   ]
  },
  {
   "cell_type": "code",
   "execution_count": 15,
   "id": "ac5c071b",
   "metadata": {},
   "outputs": [],
   "source": [
    "#paying_user dataframe\n",
    "df_paying_user = df.loc[df['event_type1'].isin(['buy'])]"
   ]
  },
  {
   "cell_type": "code",
   "execution_count": 16,
   "id": "8cb4abb8",
   "metadata": {},
   "outputs": [
    {
     "name": "stdout",
     "output_type": "stream",
     "text": [
      "<class 'pandas.core.frame.DataFrame'>\n",
      "Int64Index: 8407 entries, 319 to 597749\n",
      "Data columns (total 6 columns):\n",
      "date           8407 non-null object\n",
      "event_type1    8407 non-null object\n",
      "event_type2    8407 non-null object\n",
      "event_type3    8407 non-null float64\n",
      "event_type4    0 non-null object\n",
      "continent      0 non-null object\n",
      "dtypes: float64(1), object(5)\n",
      "memory usage: 459.8+ KB\n"
     ]
    }
   ],
   "source": [
    "df_paying_user.info()"
   ]
  },
  {
   "cell_type": "code",
   "execution_count": 17,
   "id": "60018f9c",
   "metadata": {},
   "outputs": [],
   "source": [
    "df_paying_user = df_paying_user.astype({\"event_type1\":'category',\"event_type2\":'int', \"event_type3\":'int'})"
   ]
  },
  {
   "cell_type": "code",
   "execution_count": 18,
   "id": "e961199d",
   "metadata": {},
   "outputs": [],
   "source": [
    "df_paying_user = df_paying_user.drop('event_type4', 1)"
   ]
  },
  {
   "cell_type": "code",
   "execution_count": 19,
   "id": "9c65fd19",
   "metadata": {},
   "outputs": [],
   "source": [
    "df_paying_user = df_paying_user.drop('continent', 1)"
   ]
  },
  {
   "cell_type": "code",
   "execution_count": 20,
   "id": "6094071a",
   "metadata": {},
   "outputs": [],
   "source": [
    "df_paying_user.columns = [\"my_date\", \"event_type1\", \"user_id\", \"price\"]"
   ]
  },
  {
   "cell_type": "code",
   "execution_count": 21,
   "id": "92e75d56",
   "metadata": {},
   "outputs": [],
   "source": [
    "df_paying_user.to_csv(\"df_paying_user.csv\", index=False)"
   ]
  },
  {
   "cell_type": "code",
   "execution_count": 22,
   "id": "452d38c0",
   "metadata": {},
   "outputs": [
    {
     "name": "stdout",
     "output_type": "stream",
     "text": [
      "<class 'pandas.core.frame.DataFrame'>\n",
      "Int64Index: 8407 entries, 319 to 597749\n",
      "Data columns (total 4 columns):\n",
      "my_date        8407 non-null object\n",
      "event_type1    8407 non-null category\n",
      "user_id        8407 non-null int64\n",
      "price          8407 non-null int64\n",
      "dtypes: category(1), int64(2), object(1)\n",
      "memory usage: 271.0+ KB\n"
     ]
    }
   ],
   "source": [
    "df_paying_user.info()"
   ]
  },
  {
   "cell_type": "code",
   "execution_count": 23,
   "id": "5d037f12",
   "metadata": {},
   "outputs": [
    {
     "data": {
      "text/plain": [
       "(597901, 6)"
      ]
     },
     "execution_count": 23,
     "metadata": {},
     "output_type": "execute_result"
    }
   ],
   "source": [
    "df.shape"
   ]
  },
  {
   "cell_type": "markdown",
   "id": "ae98a880",
   "metadata": {},
   "source": [
    "# First reader df"
   ]
  },
  {
   "cell_type": "code",
   "execution_count": 25,
   "id": "97a42958",
   "metadata": {},
   "outputs": [],
   "source": [
    "df_first_reader = df.loc[df['event_type4'].isin(['SEO', 'AdWords', 'Reddit'])]\n",
    "df_first_reader.shape\n",
    "df_first_reader = df_first_reader.astype({\"event_type1\":'category',\"event_type2\":'category', \"event_type3\":'int', \"event_type4\":'category', \"continent\":'category'})"
   ]
  },
  {
   "cell_type": "code",
   "execution_count": 26,
   "id": "6a41f7f6",
   "metadata": {},
   "outputs": [],
   "source": [
    "df_first_reader.event_type1 = df_first_reader.event_type1.replace('read', 'first_read')"
   ]
  },
  {
   "cell_type": "code",
   "execution_count": 27,
   "id": "d2a10c22",
   "metadata": {},
   "outputs": [],
   "source": [
    "df_first_reader.columns = [\"my_date\", \"event_type1\", \"country\", \"user_id\", \"source\", \"topic\"]"
   ]
  },
  {
   "cell_type": "code",
   "execution_count": 28,
   "id": "10edaea5",
   "metadata": {},
   "outputs": [],
   "source": [
    "df_first_reader.to_csv(\"df_first_reader.csv\", index=False)"
   ]
  },
  {
   "cell_type": "code",
   "execution_count": 29,
   "id": "ce7d49b9",
   "metadata": {},
   "outputs": [
    {
     "data": {
      "text/html": [
       "<div>\n",
       "<style scoped>\n",
       "    .dataframe tbody tr th:only-of-type {\n",
       "        vertical-align: middle;\n",
       "    }\n",
       "\n",
       "    .dataframe tbody tr th {\n",
       "        vertical-align: top;\n",
       "    }\n",
       "\n",
       "    .dataframe thead th {\n",
       "        text-align: right;\n",
       "    }\n",
       "</style>\n",
       "<table border=\"1\" class=\"dataframe\">\n",
       "  <thead>\n",
       "    <tr style=\"text-align: right;\">\n",
       "      <th></th>\n",
       "      <th>my_date</th>\n",
       "      <th>event_type1</th>\n",
       "      <th>country</th>\n",
       "      <th>user_id</th>\n",
       "      <th>source</th>\n",
       "      <th>topic</th>\n",
       "    </tr>\n",
       "  </thead>\n",
       "  <tbody>\n",
       "    <tr>\n",
       "      <th>0</th>\n",
       "      <td>2018-01-01 00:03:20</td>\n",
       "      <td>first_read</td>\n",
       "      <td>country_7</td>\n",
       "      <td>2458151262</td>\n",
       "      <td>SEO</td>\n",
       "      <td>South America</td>\n",
       "    </tr>\n",
       "    <tr>\n",
       "      <th>1</th>\n",
       "      <td>2018-01-01 00:04:01</td>\n",
       "      <td>first_read</td>\n",
       "      <td>country_7</td>\n",
       "      <td>2458151263</td>\n",
       "      <td>AdWords</td>\n",
       "      <td>Africa</td>\n",
       "    </tr>\n",
       "    <tr>\n",
       "      <th>2</th>\n",
       "      <td>2018-01-01 00:04:02</td>\n",
       "      <td>first_read</td>\n",
       "      <td>country_7</td>\n",
       "      <td>2458151264</td>\n",
       "      <td>AdWords</td>\n",
       "      <td>Europe</td>\n",
       "    </tr>\n",
       "    <tr>\n",
       "      <th>3</th>\n",
       "      <td>2018-01-01 00:05:03</td>\n",
       "      <td>first_read</td>\n",
       "      <td>country_8</td>\n",
       "      <td>2458151265</td>\n",
       "      <td>Reddit</td>\n",
       "      <td>North America</td>\n",
       "    </tr>\n",
       "    <tr>\n",
       "      <th>4</th>\n",
       "      <td>2018-01-01 00:05:42</td>\n",
       "      <td>first_read</td>\n",
       "      <td>country_6</td>\n",
       "      <td>2458151266</td>\n",
       "      <td>Reddit</td>\n",
       "      <td>North America</td>\n",
       "    </tr>\n",
       "  </tbody>\n",
       "</table>\n",
       "</div>"
      ],
      "text/plain": [
       "               my_date event_type1    country     user_id   source  \\\n",
       "0  2018-01-01 00:03:20  first_read  country_7  2458151262      SEO   \n",
       "1  2018-01-01 00:04:01  first_read  country_7  2458151263  AdWords   \n",
       "2  2018-01-01 00:04:02  first_read  country_7  2458151264  AdWords   \n",
       "3  2018-01-01 00:05:03  first_read  country_8  2458151265   Reddit   \n",
       "4  2018-01-01 00:05:42  first_read  country_6  2458151266   Reddit   \n",
       "\n",
       "           topic  \n",
       "0  South America  \n",
       "1         Africa  \n",
       "2         Europe  \n",
       "3  North America  \n",
       "4  North America  "
      ]
     },
     "execution_count": 29,
     "metadata": {},
     "output_type": "execute_result"
    }
   ],
   "source": [
    " df_first_reader.head()"
   ]
  },
  {
   "cell_type": "markdown",
   "id": "6496dfd3",
   "metadata": {},
   "source": [
    "# Reg reager df"
   ]
  },
  {
   "cell_type": "code",
   "execution_count": 30,
   "id": "8b5f573e",
   "metadata": {},
   "outputs": [
    {
     "data": {
      "text/plain": [
       "(371854, 6)"
      ]
     },
     "execution_count": 30,
     "metadata": {},
     "output_type": "execute_result"
    }
   ],
   "source": [
    "df_reg_reader = df.loc[df['event_type4'].isin(['North America', 'Asia', 'Africa','South America', 'Australia', 'Europe'])]\n",
    "df_reg_reader.shape"
   ]
  },
  {
   "cell_type": "code",
   "execution_count": 31,
   "id": "4a3a8c14",
   "metadata": {},
   "outputs": [
    {
     "data": {
      "text/html": [
       "<div>\n",
       "<style scoped>\n",
       "    .dataframe tbody tr th:only-of-type {\n",
       "        vertical-align: middle;\n",
       "    }\n",
       "\n",
       "    .dataframe tbody tr th {\n",
       "        vertical-align: top;\n",
       "    }\n",
       "\n",
       "    .dataframe thead th {\n",
       "        text-align: right;\n",
       "    }\n",
       "</style>\n",
       "<table border=\"1\" class=\"dataframe\">\n",
       "  <thead>\n",
       "    <tr style=\"text-align: right;\">\n",
       "      <th></th>\n",
       "      <th>date</th>\n",
       "      <th>event_type1</th>\n",
       "      <th>event_type2</th>\n",
       "      <th>event_type3</th>\n",
       "      <th>event_type4</th>\n",
       "      <th>continent</th>\n",
       "    </tr>\n",
       "  </thead>\n",
       "  <tbody>\n",
       "    <tr>\n",
       "      <th>169</th>\n",
       "      <td>2018-01-01 02:20:18</td>\n",
       "      <td>read</td>\n",
       "      <td>country_5</td>\n",
       "      <td>2.458151e+09</td>\n",
       "      <td>North America</td>\n",
       "      <td>NaN</td>\n",
       "    </tr>\n",
       "    <tr>\n",
       "      <th>210</th>\n",
       "      <td>2018-01-01 02:53:39</td>\n",
       "      <td>read</td>\n",
       "      <td>country_4</td>\n",
       "      <td>2.458151e+09</td>\n",
       "      <td>Asia</td>\n",
       "      <td>NaN</td>\n",
       "    </tr>\n",
       "    <tr>\n",
       "      <th>277</th>\n",
       "      <td>2018-01-01 03:34:22</td>\n",
       "      <td>read</td>\n",
       "      <td>country_4</td>\n",
       "      <td>2.458152e+09</td>\n",
       "      <td>Africa</td>\n",
       "      <td>NaN</td>\n",
       "    </tr>\n",
       "    <tr>\n",
       "      <th>280</th>\n",
       "      <td>2018-01-01 03:36:18</td>\n",
       "      <td>read</td>\n",
       "      <td>country_5</td>\n",
       "      <td>2.458151e+09</td>\n",
       "      <td>Asia</td>\n",
       "      <td>NaN</td>\n",
       "    </tr>\n",
       "    <tr>\n",
       "      <th>285</th>\n",
       "      <td>2018-01-01 03:40:42</td>\n",
       "      <td>read</td>\n",
       "      <td>country_5</td>\n",
       "      <td>2.458151e+09</td>\n",
       "      <td>South America</td>\n",
       "      <td>NaN</td>\n",
       "    </tr>\n",
       "  </tbody>\n",
       "</table>\n",
       "</div>"
      ],
      "text/plain": [
       "                    date event_type1 event_type2   event_type3    event_type4  \\\n",
       "169  2018-01-01 02:20:18        read   country_5  2.458151e+09  North America   \n",
       "210  2018-01-01 02:53:39        read   country_4  2.458151e+09           Asia   \n",
       "277  2018-01-01 03:34:22        read   country_4  2.458152e+09         Africa   \n",
       "280  2018-01-01 03:36:18        read   country_5  2.458151e+09           Asia   \n",
       "285  2018-01-01 03:40:42        read   country_5  2.458151e+09  South America   \n",
       "\n",
       "    continent  \n",
       "169       NaN  \n",
       "210       NaN  \n",
       "277       NaN  \n",
       "280       NaN  \n",
       "285       NaN  "
      ]
     },
     "execution_count": 31,
     "metadata": {},
     "output_type": "execute_result"
    }
   ],
   "source": [
    "df_reg_reader.head()"
   ]
  },
  {
   "cell_type": "code",
   "execution_count": 32,
   "id": "d538246b",
   "metadata": {},
   "outputs": [],
   "source": [
    "df_reg_reader = df_reg_reader.drop('continent', 1)"
   ]
  },
  {
   "cell_type": "code",
   "execution_count": 33,
   "id": "8ead4764",
   "metadata": {},
   "outputs": [],
   "source": [
    "df_reg_reader = df_reg_reader.astype({\"event_type1\":'category',\"event_type2\":'category', \"event_type3\":'int', \"event_type4\":'category'})"
   ]
  },
  {
   "cell_type": "code",
   "execution_count": 34,
   "id": "f01e30ed",
   "metadata": {},
   "outputs": [],
   "source": [
    "df_reg_reader.columns = [\"my_date\", \"event_type1\", \"country\", \"user_id\", \"topic\"]"
   ]
  },
  {
   "cell_type": "code",
   "execution_count": 35,
   "id": "8db2745e",
   "metadata": {},
   "outputs": [],
   "source": [
    "df_reg_reader.to_csv(\"df_reg_reader.csv\", index=False)"
   ]
  }
 ],
 "metadata": {
  "kernelspec": {
   "display_name": "Python 3",
   "language": "python",
   "name": "python3"
  },
  "language_info": {
   "codemirror_mode": {
    "name": "ipython",
    "version": 3
   },
   "file_extension": ".py",
   "mimetype": "text/x-python",
   "name": "python",
   "nbconvert_exporter": "python",
   "pygments_lexer": "ipython3",
   "version": "3.6.9"
  }
 },
 "nbformat": 4,
 "nbformat_minor": 5
}
